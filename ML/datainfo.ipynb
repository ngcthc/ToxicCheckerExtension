{
 "cells": [
  {
   "cell_type": "code",
   "execution_count": 2,
   "metadata": {},
   "outputs": [],
   "source": [
    "import pandas as pd\n",
    "\n",
    "# train_path = \"data/train.csv\"\n",
    "# val_path = \"data/valid.csv\"\n",
    "# test_path = \"data/down_test.csv\"\n",
    "\n",
    "# train_path = \"data/up_train.csv\"\n",
    "# val_path = \"data/up_valid.csv\"\n",
    "# test_path = \"data/up_test.csv\"\n",
    "\n",
    "train_path = \"data/down_train.csv\"\n",
    "val_path = \"data/down_valid.csv\"\n",
    "test_path = \"data/down_test.csv\"\n",
    "\n",
    "# train_path = \"data/ViCTSD_train.csv\"\n",
    "# val_path = \"data/ViCTSD_valid.csv\"\n",
    "# test_path = \"data/ViCTSD_test.csv\"\n",
    "\n",
    "# Tải dữ liệu\n",
    "train_df = pd.read_csv(train_path)\n",
    "val_df = pd.read_csv(val_path)\n",
    "test_df = pd.read_csv(test_path)\n",
    "\n",
    "# # Xóa các cột không cần thiết và đổi tên cột\n",
    "# columns_to_drop = [\"Title\", \"Topic\", \"Unnamed: 0\", \"Constructiveness\"]\n",
    "# for df in [train_df, val_df, test_df]:\n",
    "#     df.drop(columns=columns_to_drop, inplace=True)\n",
    "#     df.rename(columns={\"Toxicity\": \"label\", \"Comment\": \"text\"}, inplace=True)\n",
    "\n",
    "# Thêm cột 'set' để phân biệt các tập dữ liệu\n",
    "train_df['set'] = 'train'\n",
    "val_df['set'] = 'val'\n",
    "test_df['set'] = 'test'\n",
    "\n",
    "# Gộp các tập dữ liệu lại thành 1 DataFrame duy nhất\n",
    "df = pd.concat([train_df, val_df, test_df], ignore_index=True)"
   ]
  },
  {
   "cell_type": "code",
   "execution_count": 3,
   "metadata": {},
   "outputs": [
    {
     "name": "stdout",
     "output_type": "stream",
     "text": [
      "Số mẫu: 2982\n",
      "Số phân lớp: 2\n",
      "Số lượng mẫu theo từng phân lớp:\n",
      "label\n",
      "0    1881\n",
      "1    1101\n",
      "Name: count, dtype: int64\n",
      "Chiều dài trung bình của mỗi mẫu: 29.33\n",
      "Chiều dài trung bình mỗi mẫu theo từng phân lớp:\n",
      "label\n",
      "0    27.962254\n",
      "1    31.658492\n",
      "Name: text_length, dtype: float64\n",
      "Số mẫu theo từng phân lớp của các tập train, val, test:\n",
      "label    0    1\n",
      "set            \n",
      "test   890  110\n",
      "train  759  759\n",
      "val    232  232\n"
     ]
    }
   ],
   "source": [
    "# Số mẫu\n",
    "num_samples = len(df)\n",
    "\n",
    "# Số phân lớp\n",
    "num_classes = df['label'].nunique()\n",
    "\n",
    "# Số lượng mẫu theo từng phân lớp\n",
    "class_counts = df['label'].value_counts()\n",
    "\n",
    "# Số mẫu theo từng phân lớp của 3 tập train, val, test\n",
    "class_counts_by_set = df.groupby(['set', 'label']).size().unstack(fill_value=0)\n",
    "\n",
    "# Chiều dài trung bình của mỗi mẫu\n",
    "df['text_length'] = df['text'].apply(lambda x: len(str(x).split()))\n",
    "average_text_length = df['text_length'].mean()\n",
    "\n",
    "# Chiều dài trung bình mỗi mẫu theo từng phân lớp\n",
    "average_text_length_by_class = df.groupby('label')['text_length'].mean()\n",
    "\n",
    "# # Kích thước từ vựng của ngữ liệu\n",
    "# vocabulary = set(' '.join(df['text']).split())\n",
    "# vocabulary_size = len(vocabulary)\n",
    "\n",
    "# In kết quả\n",
    "print(f\"Số mẫu: {num_samples}\")\n",
    "print(f\"Số phân lớp: {num_classes}\")\n",
    "print(f\"Số lượng mẫu theo từng phân lớp:\\n{class_counts}\")\n",
    "print(f\"Chiều dài trung bình của mỗi mẫu: {average_text_length:.2f}\")\n",
    "print(f\"Chiều dài trung bình mỗi mẫu theo từng phân lớp:\\n{average_text_length_by_class}\")\n",
    "# print(f\"Kích thước từ vựng của ngữ liệu: {vocabulary_size}\")\n",
    "print(f\"Số mẫu theo từng phân lớp của các tập train, val, test:\\n{class_counts_by_set}\")\n"
   ]
  },
  {
   "cell_type": "code",
   "execution_count": 4,
   "metadata": {},
   "outputs": [
    {
     "name": "stdout",
     "output_type": "stream",
     "text": [
      "Kích thước từ vựng của bộ ngữ liệu là: 4583\n"
     ]
    }
   ],
   "source": [
    "from sklearn.feature_extraction.text import CountVectorizer\n",
    "\n",
    "# Sử dụng CountVectorizer và không loại bỏ stopwords\n",
    "vectorizer = CountVectorizer(stop_words=None)\n",
    "\n",
    "# Fit và transform tất cả các văn bản trong cột 'text'\n",
    "X = vectorizer.fit_transform(df['text'])\n",
    "\n",
    "# Lấy kích thước từ vựng\n",
    "vocabulary_size = len(vectorizer.get_feature_names_out())\n",
    "\n",
    "print(f\"Kích thước từ vựng của bộ ngữ liệu là: {vocabulary_size}\")"
   ]
  },
  {
   "cell_type": "code",
   "execution_count": 7,
   "metadata": {},
   "outputs": [
    {
     "data": {
      "text/plain": [
       "False"
      ]
     },
     "execution_count": 7,
     "metadata": {},
     "output_type": "execute_result"
    }
   ],
   "source": [
    "\".\" in vectorizer.get_feature_names_out() "
   ]
  }
 ],
 "metadata": {
  "kernelspec": {
   "display_name": "Python 3",
   "language": "python",
   "name": "python3"
  },
  "language_info": {
   "codemirror_mode": {
    "name": "ipython",
    "version": 3
   },
   "file_extension": ".py",
   "mimetype": "text/x-python",
   "name": "python",
   "nbconvert_exporter": "python",
   "pygments_lexer": "ipython3",
   "version": "3.10.5"
  }
 },
 "nbformat": 4,
 "nbformat_minor": 2
}
