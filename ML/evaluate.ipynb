{
 "cells": [
  {
   "cell_type": "code",
   "execution_count": 8,
   "metadata": {},
   "outputs": [
    {
     "name": "stdout",
     "output_type": "stream",
     "text": [
      "Accuracy: 0.8\n",
      "F1: 0.7973531844499586\n",
      "Recall: 0.8\n",
      "Precision: 0.8165374677002584\n",
      "              precision    recall  f1-score   support\n",
      "\n",
      "           0       0.74      0.91      0.82        35\n",
      "           1       0.89      0.69      0.77        35\n",
      "\n",
      "    accuracy                           0.80        70\n",
      "   macro avg       0.82      0.80      0.80        70\n",
      "weighted avg       0.82      0.80      0.80        70\n",
      "\n",
      "[[32  3]\n",
      " [11 24]]\n"
     ]
    }
   ],
   "source": [
    "from sklearn.metrics import accuracy_score, f1_score, recall_score, precision_score, classification_report, confusion_matrix\n",
    "import pandas as pd \n",
    "\n",
    "def evaluate(y_true, y_pred):\n",
    "    accuracy = accuracy_score(y_true, y_pred)\n",
    "    f1 = f1_score(y_true, y_pred, average='macro')\n",
    "    recall = recall_score(y_true, y_pred, average='macro')\n",
    "    precision = precision_score(y_true, y_pred, average='macro')\n",
    "    report = classification_report(y_true, y_pred)\n",
    "    confusion = confusion_matrix(y_true, y_pred)\n",
    "    return accuracy, f1, recall, precision, report, confusion\n",
    "\n",
    "def print_evaluation(y_true, y_pred):\n",
    "    accuracy, f1, recall, precision, report, confusion = evaluate(y_true, y_pred)\n",
    "    print(f\"Accuracy: {accuracy}\")\n",
    "    print(f\"F1: {f1}\")\n",
    "    print(f\"Recall: {recall}\")\n",
    "    print(f\"Precision: {precision}\")\n",
    "    print(report)\n",
    "    print(confusion)\n",
    "\n",
    "if __name__ == \"__main__\":\n",
    "\n",
    "    y_true = pd.read_csv(\"data/responses.csv\")[\"labels\"].values\n",
    "    y_pred = pd.read_csv(\"data/responses.csv\")[\"preds\"].values\n",
    "    print_evaluation(y_true, y_pred)"
   ]
  }
 ],
 "metadata": {
  "kernelspec": {
   "display_name": "Python 3",
   "language": "python",
   "name": "python3"
  },
  "language_info": {
   "codemirror_mode": {
    "name": "ipython",
    "version": 3
   },
   "file_extension": ".py",
   "mimetype": "text/x-python",
   "name": "python",
   "nbconvert_exporter": "python",
   "pygments_lexer": "ipython3",
   "version": "3.10.5"
  }
 },
 "nbformat": 4,
 "nbformat_minor": 2
}
