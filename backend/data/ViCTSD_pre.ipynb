{
 "cells": [
  {
   "cell_type": "markdown",
   "metadata": {},
   "source": [
    "## Phân tích dữ liệu"
   ]
  },
  {
   "cell_type": "code",
   "execution_count": 1,
   "metadata": {},
   "outputs": [],
   "source": [
    "import pandas as pd\n",
    "import matplotlib.pyplot as plt"
   ]
  },
  {
   "cell_type": "code",
   "execution_count": 2,
   "metadata": {},
   "outputs": [],
   "source": [
    "train = pd.read_csv('ViCTSD_train.csv')\n",
    "X_train = train['Comment']\n",
    "y_train = train['Toxicity']"
   ]
  },
  {
   "cell_type": "code",
   "execution_count": 3,
   "metadata": {},
   "outputs": [],
   "source": [
    "test = pd.read_csv('ViCTSD_test.csv')\n",
    "X_test = test['Comment']\n",
    "y_test = test['Toxicity']"
   ]
  },
  {
   "cell_type": "code",
   "execution_count": 4,
   "metadata": {},
   "outputs": [
    {
     "data": {
      "text/html": [
       "<div>\n",
       "<style scoped>\n",
       "    .dataframe tbody tr th:only-of-type {\n",
       "        vertical-align: middle;\n",
       "    }\n",
       "\n",
       "    .dataframe tbody tr th {\n",
       "        vertical-align: top;\n",
       "    }\n",
       "\n",
       "    .dataframe thead th {\n",
       "        text-align: right;\n",
       "    }\n",
       "</style>\n",
       "<table border=\"1\" class=\"dataframe\">\n",
       "  <thead>\n",
       "    <tr style=\"text-align: right;\">\n",
       "      <th></th>\n",
       "      <th>Unnamed: 0</th>\n",
       "      <th>Constructiveness</th>\n",
       "      <th>Toxicity</th>\n",
       "    </tr>\n",
       "  </thead>\n",
       "  <tbody>\n",
       "    <tr>\n",
       "      <th>count</th>\n",
       "      <td>7000.000000</td>\n",
       "      <td>7000.000000</td>\n",
       "      <td>7000.000000</td>\n",
       "    </tr>\n",
       "    <tr>\n",
       "      <th>mean</th>\n",
       "      <td>4981.787286</td>\n",
       "      <td>0.357571</td>\n",
       "      <td>0.108429</td>\n",
       "    </tr>\n",
       "    <tr>\n",
       "      <th>std</th>\n",
       "      <td>2890.451305</td>\n",
       "      <td>0.479319</td>\n",
       "      <td>0.310943</td>\n",
       "    </tr>\n",
       "    <tr>\n",
       "      <th>min</th>\n",
       "      <td>1.000000</td>\n",
       "      <td>0.000000</td>\n",
       "      <td>0.000000</td>\n",
       "    </tr>\n",
       "    <tr>\n",
       "      <th>25%</th>\n",
       "      <td>2478.750000</td>\n",
       "      <td>0.000000</td>\n",
       "      <td>0.000000</td>\n",
       "    </tr>\n",
       "    <tr>\n",
       "      <th>50%</th>\n",
       "      <td>4980.000000</td>\n",
       "      <td>0.000000</td>\n",
       "      <td>0.000000</td>\n",
       "    </tr>\n",
       "    <tr>\n",
       "      <th>75%</th>\n",
       "      <td>7461.250000</td>\n",
       "      <td>1.000000</td>\n",
       "      <td>0.000000</td>\n",
       "    </tr>\n",
       "    <tr>\n",
       "      <th>max</th>\n",
       "      <td>9998.000000</td>\n",
       "      <td>1.000000</td>\n",
       "      <td>1.000000</td>\n",
       "    </tr>\n",
       "  </tbody>\n",
       "</table>\n",
       "</div>"
      ],
      "text/plain": [
       "        Unnamed: 0  Constructiveness     Toxicity\n",
       "count  7000.000000       7000.000000  7000.000000\n",
       "mean   4981.787286          0.357571     0.108429\n",
       "std    2890.451305          0.479319     0.310943\n",
       "min       1.000000          0.000000     0.000000\n",
       "25%    2478.750000          0.000000     0.000000\n",
       "50%    4980.000000          0.000000     0.000000\n",
       "75%    7461.250000          1.000000     0.000000\n",
       "max    9998.000000          1.000000     1.000000"
      ]
     },
     "execution_count": 4,
     "metadata": {},
     "output_type": "execute_result"
    }
   ],
   "source": [
    "train.describe()"
   ]
  },
  {
   "cell_type": "code",
   "execution_count": 5,
   "metadata": {},
   "outputs": [
    {
     "data": {
      "text/plain": [
       "Toxicity\n",
       "0    6241\n",
       "1     759\n",
       "Name: count, dtype: int64"
      ]
     },
     "execution_count": 5,
     "metadata": {},
     "output_type": "execute_result"
    }
   ],
   "source": [
    "CTSD_counts = y_train.value_counts()\n",
    "CTSD_counts"
   ]
  },
  {
   "cell_type": "code",
   "execution_count": null,
   "metadata": {},
   "outputs": [
    {
     "data": {
      "image/png": "[encoded data removed]",
      "text/plain": [
       "<Figure size 800x600 with 1 Axes>"
      ]
     },
     "metadata": {},
     "output_type": "display_data"
    }
   ],
   "source": [
    "# Vẽ biểu đồ cột\n",
    "plt.figure(figsize=(8, 6))\n",
    "CTSD_counts.plot(kind='bar', color=['skyblue', 'salmon'])\n",
    "\n",
    "# Thêm tiêu đề và nhãn trục\n",
    "plt.title('Số lượng mẫu trong mỗi class')\n",
    "plt.xlabel('Class')\n",
    "plt.ylabel('Số lượng mẫu')\n",
    "plt.xticks(rotation=0)  # Giữ nhãn class theo chiều ngang\n",
    "plt.show()"
   ]
  },
  {
   "cell_type": "markdown",
   "metadata": {},
   "source": [
    "## Tiền xử lý dữ liệu"
   ]
  },
  {
   "cell_type": "markdown",
   "metadata": {},
   "source": [
    "### Stopword"
   ]
  },
  {
   "cell_type": "code",
   "execution_count": 7,
   "metadata": {},
   "outputs": [],
   "source": [
    "# Đọc stop words từ file\n",
    "with open(\"preprocess/vietnamese-stopwords.txt\", \"r\", encoding=\"utf-8\") as file:\n",
    "    stop_words = set(file.read().splitlines())\n",
    "\n",
    "# Hàm loại bỏ stop words\n",
    "def remove_stop_words(text):\n",
    "    words = text.split()\n",
    "    filtered_words = [word for word in words if word.lower() not in stop_words]\n",
    "    return ' '.join(filtered_words)"
   ]
  },
  {
   "cell_type": "code",
   "execution_count": 12,
   "metadata": {},
   "outputs": [],
   "source": [
    "# Áp dụng hàm loại bỏ stop words lên cột 'texts' trong DataFrame\n",
    "X_train_sw = X_train.apply(remove_stop_words)\n",
    "X_test_sw = X_test.apply(remove_stop_words)"
   ]
  },
  {
   "cell_type": "code",
   "execution_count": 14,
   "metadata": {},
   "outputs": [
    {
     "data": {
      "text/plain": [
       "0                                 Thật tuyệt vời...!!!\n",
       "1    mỹ đã tuột dốc quá nhiều rồi, giờ muốn vực dậy...\n",
       "2    tôi thấy người lái xe hơi bấm còi mới là người...\n",
       "3    Coi dịch là giặc. Đã mang tên đó mà xâm nhập V...\n",
       "4    Thương các bé quá! Các con còn quá nhỏ mà đã p...\n",
       "Name: Comment, dtype: object"
      ]
     },
     "execution_count": 14,
     "metadata": {},
     "output_type": "execute_result"
    }
   ],
   "source": [
    "X_train.head(5)"
   ]
  },
  {
   "cell_type": "code",
   "execution_count": 13,
   "metadata": {},
   "outputs": [
    {
     "data": {
      "text/plain": [
       "0                                      tuyệt vời...!!!\n",
       "1                             mỹ tuột dốc rồi, vực dậy\n",
       "2    lái xe hơi bấm còi \"rất\" lịch \"quá\" văn minh.đ...\n",
       "3    Coi dịch giặc. xâm nhập VN đầu hàng cút xéo. V...\n",
       "4    Thương bé quá! rời mẹ! chia buồn gia đình con,...\n",
       "Name: Comment, dtype: object"
      ]
     },
     "execution_count": 13,
     "metadata": {},
     "output_type": "execute_result"
    }
   ],
   "source": [
    "X_train_sw.head(5)"
   ]
  },
  {
   "cell_type": "markdown",
   "metadata": {},
   "source": [
    "### Word Segmentation"
   ]
  },
  {
   "cell_type": "code",
   "execution_count": 15,
   "metadata": {},
   "outputs": [
    {
     "name": "stdout",
     "output_type": "stream",
     "text": [
      "VnCoreNLP model folder . already exists! Please load VnCoreNLP from this folder!\n"
     ]
    }
   ],
   "source": [
    "import py_vncorenlp\n",
    "\n",
    "# Automatically download VnCoreNLP components from the original repository\n",
    "# and save them in some local working folder\n",
    "py_vncorenlp.download_model(save_dir='.')"
   ]
  },
  {
   "cell_type": "code",
   "execution_count": 16,
   "metadata": {},
   "outputs": [],
   "source": [
    "model = py_vncorenlp.VnCoreNLP(annotators=[\"wseg\"], save_dir='.')"
   ]
  },
  {
   "cell_type": "code",
   "execution_count": 17,
   "metadata": {},
   "outputs": [],
   "source": [
    "X_train_seg = [model.word_segment(sentence) for sentence in X_train_sw]\n",
    "X_test_seg = [model.word_segment(sentence) for sentence in X_test_sw]"
   ]
  },
  {
   "cell_type": "code",
   "execution_count": 18,
   "metadata": {},
   "outputs": [],
   "source": [
    "X_train_seg= [' '.join(sentence) for sentence in X_train_seg]\n",
    "X_test_seg= [' '.join(sentence) for sentence in X_test_seg]"
   ]
  },
  {
   "cell_type": "code",
   "execution_count": 21,
   "metadata": {},
   "outputs": [
    {
     "data": {
      "text/plain": [
       "['tuyệt_vời ... ! ! !',\n",
       " 'mỹ tuột_dốc rồi , vực dậy',\n",
       " 'lái_xe hơi bấm còi \" rất \" lịch \" quá \" văn minh.đường xá chung , người sử_dụng kiên_nhẫn dùng . bấm còi nháy đèn đòi ưu_tiên đi trước . đại mà .',\n",
       " 'Coi dịch giặc . xâm_nhập VN đầu_hàng cút xéo . VN hào !',\n",
       " 'Thương bé quá ! rời mẹ ! chia buồn gia_đình con , cầu_mong vui giới mới !']"
      ]
     },
     "execution_count": 21,
     "metadata": {},
     "output_type": "execute_result"
    }
   ],
   "source": [
    "X_train_seg[:5]"
   ]
  },
  {
   "cell_type": "markdown",
   "metadata": {},
   "source": [
    "### Replace Teencode"
   ]
  },
  {
   "cell_type": "code",
   "execution_count": 22,
   "metadata": {},
   "outputs": [],
   "source": [
    "teencode_df = pd.read_csv('preprocess/teencode.txt',names=['teencode','map'],sep='\\t',)"
   ]
  },
  {
   "cell_type": "code",
   "execution_count": 25,
   "metadata": {},
   "outputs": [
    {
     "data": {
      "text/html": [
       "<div>\n",
       "<style scoped>\n",
       "    .dataframe tbody tr th:only-of-type {\n",
       "        vertical-align: middle;\n",
       "    }\n",
       "\n",
       "    .dataframe tbody tr th {\n",
       "        vertical-align: top;\n",
       "    }\n",
       "\n",
       "    .dataframe thead th {\n",
       "        text-align: right;\n",
       "    }\n",
       "</style>\n",
       "<table border=\"1\" class=\"dataframe\">\n",
       "  <thead>\n",
       "    <tr style=\"text-align: right;\">\n",
       "      <th></th>\n",
       "      <th>teencode</th>\n",
       "      <th>map</th>\n",
       "    </tr>\n",
       "  </thead>\n",
       "  <tbody>\n",
       "    <tr>\n",
       "      <th>0</th>\n",
       "      <td>ctrai</td>\n",
       "      <td>con trai</td>\n",
       "    </tr>\n",
       "    <tr>\n",
       "      <th>1</th>\n",
       "      <td>khôg</td>\n",
       "      <td>không</td>\n",
       "    </tr>\n",
       "    <tr>\n",
       "      <th>2</th>\n",
       "      <td>bme</td>\n",
       "      <td>bố mẹ</td>\n",
       "    </tr>\n",
       "    <tr>\n",
       "      <th>3</th>\n",
       "      <td>cta</td>\n",
       "      <td>chúng ta</td>\n",
       "    </tr>\n",
       "    <tr>\n",
       "      <th>4</th>\n",
       "      <td>mih</td>\n",
       "      <td>mình</td>\n",
       "    </tr>\n",
       "  </tbody>\n",
       "</table>\n",
       "</div>"
      ],
      "text/plain": [
       "  teencode       map\n",
       "0    ctrai  con trai\n",
       "1     khôg     không\n",
       "2      bme     bố mẹ\n",
       "3      cta  chúng ta\n",
       "4      mih      mình"
      ]
     },
     "execution_count": 25,
     "metadata": {},
     "output_type": "execute_result"
    }
   ],
   "source": [
    "teencode_df.head(5)"
   ]
  },
  {
   "cell_type": "code",
   "execution_count": 26,
   "metadata": {},
   "outputs": [],
   "source": [
    "import re\n",
    "\n",
    "def teencode(sentence):\n",
    "    for teencode, map in zip(teencode_df['teencode'], teencode_df['map']):\n",
    "        # Sử dụng regex để thay thế chỉ khi từ teencode đứng độc lập\n",
    "        sentence = re.sub(rf'\\b{teencode}\\b', map, sentence)\n",
    "    return sentence"
   ]
  },
  {
   "cell_type": "code",
   "execution_count": 27,
   "metadata": {},
   "outputs": [
    {
     "data": {
      "text/plain": [
       "'oh my god , cái gì vậy ? '"
      ]
     },
     "execution_count": 27,
     "metadata": {},
     "output_type": "execute_result"
    }
   ],
   "source": [
    "teencode(\"omg , cái j z ? \")"
   ]
  },
  {
   "cell_type": "code",
   "execution_count": 31,
   "metadata": {},
   "outputs": [],
   "source": [
    "X_train_tc = [x.lower() if isinstance(x, str) else x for x in X_train_seg]\n",
    "X_test_tc = [x.lower() if isinstance(x, str) else x for x in X_test_seg]"
   ]
  },
  {
   "cell_type": "code",
   "execution_count": 32,
   "metadata": {},
   "outputs": [
    {
     "data": {
      "text/plain": [
       "['tuyệt_vời ... ! ! !',\n",
       " 'mỹ tuột_dốc rồi , vực dậy',\n",
       " 'lái_xe hơi bấm còi \" rất \" lịch \" quá \" văn minh.đường xá chung , người sử_dụng kiên_nhẫn dùng . bấm còi nháy đèn đòi ưu_tiên đi trước . đại mà .',\n",
       " 'coi dịch giặc . xâm_nhập vn đầu_hàng cút xéo . vn hào !',\n",
       " 'thương bé quá ! rời mẹ ! chia buồn gia_đình con , cầu_mong vui giới mới !']"
      ]
     },
     "execution_count": 32,
     "metadata": {},
     "output_type": "execute_result"
    }
   ],
   "source": [
    "X_train_tc[:5]"
   ]
  },
  {
   "cell_type": "code",
   "execution_count": 34,
   "metadata": {},
   "outputs": [],
   "source": [
    "X_train_tc = [teencode(sentence) for sentence in X_train_tc]"
   ]
  },
  {
   "cell_type": "code",
   "execution_count": 35,
   "metadata": {},
   "outputs": [],
   "source": [
    "X_test_tc = [teencode(sentence) for sentence in X_test_tc]"
   ]
  },
  {
   "cell_type": "markdown",
   "metadata": {},
   "source": [
    "## Save Data"
   ]
  },
  {
   "cell_type": "code",
   "execution_count": null,
   "metadata": {},
   "outputs": [],
   "source": [
    "X_train_tc_df = pd.DataFrame(X_train_tc, columns=[\"texts\"])\n",
    "X_train_tc_df['toxicity'] = y_train\n",
    "\n",
    "# Lưu DataFrame vào file CSV\n",
    "X_train_tc_df.to_csv(\"Preprocessed_data/train.csv\", index=False, encoding=\"utf-8\")"
   ]
  },
  {
   "cell_type": "code",
   "execution_count": null,
   "metadata": {},
   "outputs": [],
   "source": [
    "X_test_tc_df = pd.DataFrame(X_test_tc, columns=[\"texts\"])\n",
    "X_test_tc_df['toxicity'] = y_test\n",
    "\n",
    "# Lưu DataFrame vào file CSV\n",
    "X_test_tc_df.to_csv(\"data/Preprocessed_data/test.csv\", index=False, encoding=\"utf-8\")"
   ]
  }
 ],
 "metadata": {
  "kernelspec": {
   "display_name": "Python 3",
   "language": "python",
   "name": "python3"
  },
  "language_info": {
   "codemirror_mode": {
    "name": "ipython",
    "version": 3
   },
   "file_extension": ".py",
   "mimetype": "text/x-python",
   "name": "python",
   "nbconvert_exporter": "python",
   "pygments_lexer": "ipython3",
   "version": "3.10.11"
  }
 },
 "nbformat": 4,
 "nbformat_minor": 2
}
