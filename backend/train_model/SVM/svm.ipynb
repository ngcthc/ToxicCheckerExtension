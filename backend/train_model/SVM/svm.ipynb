{
 "cells": [
  {
   "cell_type": "code",
   "execution_count": 1,
   "metadata": {},
   "outputs": [],
   "source": [
    "import numpy as np\n",
    "import matplotlib.pyplot as plt\n",
    "import pandas as pd\n",
    "from sklearn.feature_extraction.text import TfidfVectorizer, CountVectorizer\n",
    "from sklearn.inspection import permutation_importance\n",
    "from sklearn.svm import SVC\n",
    "from sklearn.metrics import classification_report, accuracy_score, f1_score\n",
    "import pickle"
   ]
  },
  {
   "cell_type": "code",
   "execution_count": 3,
   "metadata": {},
   "outputs": [],
   "source": [
    "train = pd.read_csv('../../data/Preprocessed_data/ViCTSD_train.csv')\n",
    "X_train = train['texts']\n",
    "y_train = train['toxicity']"
   ]
  },
  {
   "cell_type": "code",
   "execution_count": 4,
   "metadata": {},
   "outputs": [],
   "source": [
    "test = pd.read_csv('../../data/Preprocessed_data/ViCTSD_test.csv')\n",
    "X_test = test['texts']\n",
    "y_test = test['toxicity']"
   ]
  },
  {
   "cell_type": "code",
   "execution_count": 5,
   "metadata": {},
   "outputs": [
    {
     "data": {
      "text/html": [
       "<div>\n",
       "<style scoped>\n",
       "    .dataframe tbody tr th:only-of-type {\n",
       "        vertical-align: middle;\n",
       "    }\n",
       "\n",
       "    .dataframe tbody tr th {\n",
       "        vertical-align: top;\n",
       "    }\n",
       "\n",
       "    .dataframe thead th {\n",
       "        text-align: right;\n",
       "    }\n",
       "</style>\n",
       "<table border=\"1\" class=\"dataframe\">\n",
       "  <thead>\n",
       "    <tr style=\"text-align: right;\">\n",
       "      <th></th>\n",
       "      <th>texts</th>\n",
       "      <th>toxicity</th>\n",
       "    </tr>\n",
       "  </thead>\n",
       "  <tbody>\n",
       "    <tr>\n",
       "      <th>0</th>\n",
       "      <td>tuyệt_vời ... ! ! !</td>\n",
       "      <td>0</td>\n",
       "    </tr>\n",
       "    <tr>\n",
       "      <th>1</th>\n",
       "      <td>mỹ tuột_dốc rồi , vực dậy</td>\n",
       "      <td>0</td>\n",
       "    </tr>\n",
       "    <tr>\n",
       "      <th>2</th>\n",
       "      <td>lái_xe hơi bấm còi \" rất \" lịch \" quá \" văn mi...</td>\n",
       "      <td>1</td>\n",
       "    </tr>\n",
       "    <tr>\n",
       "      <th>3</th>\n",
       "      <td>coi dịch giặc . xâm_nhập việt nam đầu_hàng cút...</td>\n",
       "      <td>0</td>\n",
       "    </tr>\n",
       "    <tr>\n",
       "      <th>4</th>\n",
       "      <td>thương bé quá ! rời mẹ ! chia buồn gia_đình co...</td>\n",
       "      <td>0</td>\n",
       "    </tr>\n",
       "    <tr>\n",
       "      <th>...</th>\n",
       "      <td>...</td>\n",
       "      <td>...</td>\n",
       "    </tr>\n",
       "    <tr>\n",
       "      <th>6995</th>\n",
       "      <td>đọc đau quá , thảm nạn xãy hoài , mà kho ngăn ...</td>\n",
       "      <td>0</td>\n",
       "    </tr>\n",
       "    <tr>\n",
       "      <th>6996</th>\n",
       "      <td>mua nhé . bảo_vệ sức_khoẻ 34 bệnh_lý nghiêm_tr...</td>\n",
       "      <td>0</td>\n",
       "    </tr>\n",
       "    <tr>\n",
       "      <th>6997</th>\n",
       "      <td>luật sử_dụng ma_tuý phạm_tội tiếp kẻ buôn trái...</td>\n",
       "      <td>0</td>\n",
       "    </tr>\n",
       "    <tr>\n",
       "      <th>6998</th>\n",
       "      <td>mua_fadil lăn bánh . đắt đi morning , i10 dư t...</td>\n",
       "      <td>0</td>\n",
       "    </tr>\n",
       "    <tr>\n",
       "      <th>6999</th>\n",
       "      <td>2 kẻ xử_lý mạnh . căm_phẫn</td>\n",
       "      <td>1</td>\n",
       "    </tr>\n",
       "  </tbody>\n",
       "</table>\n",
       "<p>7000 rows × 2 columns</p>\n",
       "</div>"
      ],
      "text/plain": [
       "                                                  texts  toxicity\n",
       "0                                   tuyệt_vời ... ! ! !         0\n",
       "1                             mỹ tuột_dốc rồi , vực dậy         0\n",
       "2     lái_xe hơi bấm còi \" rất \" lịch \" quá \" văn mi...         1\n",
       "3     coi dịch giặc . xâm_nhập việt nam đầu_hàng cút...         0\n",
       "4     thương bé quá ! rời mẹ ! chia buồn gia_đình co...         0\n",
       "...                                                 ...       ...\n",
       "6995  đọc đau quá , thảm nạn xãy hoài , mà kho ngăn ...         0\n",
       "6996  mua nhé . bảo_vệ sức_khoẻ 34 bệnh_lý nghiêm_tr...         0\n",
       "6997  luật sử_dụng ma_tuý phạm_tội tiếp kẻ buôn trái...         0\n",
       "6998  mua_fadil lăn bánh . đắt đi morning , i10 dư t...         0\n",
       "6999                         2 kẻ xử_lý mạnh . căm_phẫn         1\n",
       "\n",
       "[7000 rows x 2 columns]"
      ]
     },
     "execution_count": 5,
     "metadata": {},
     "output_type": "execute_result"
    }
   ],
   "source": [
    "train"
   ]
  },
  {
   "cell_type": "code",
   "execution_count": 6,
   "metadata": {},
   "outputs": [],
   "source": [
    "X_train = X_train.fillna(\"\")\n",
    "X_test = X_test.fillna(\"\")"
   ]
  },
  {
   "cell_type": "code",
   "execution_count": 7,
   "metadata": {},
   "outputs": [],
   "source": [
    "vectorizer = TfidfVectorizer()\n",
    "X_train_tfidf = vectorizer.fit_transform(X_train)\n",
    "X_test_tfidf = vectorizer.transform(X_test)"
   ]
  },
  {
   "cell_type": "code",
   "execution_count": 8,
   "metadata": {},
   "outputs": [
    {
     "name": "stdout",
     "output_type": "stream",
     "text": [
      "SVM Classification Report:\n",
      "              precision    recall  f1-score   support\n",
      "\n",
      "           0       0.91      0.98      0.94       890\n",
      "           1       0.53      0.18      0.27       110\n",
      "\n",
      "    accuracy                           0.89      1000\n",
      "   macro avg       0.72      0.58      0.61      1000\n",
      "weighted avg       0.86      0.89      0.87      1000\n",
      "\n",
      "SVM Accuracy: 0.892\n",
      "f1-score: 0.2702702702702703\n"
     ]
    }
   ],
   "source": [
    "# Huấn luyện mô hình SVM\n",
    "svm_model = SVC(kernel='rbf',class_weight=\"balanced\", C=1.2)\n",
    "svm_model.fit(X_train_tfidf, y_train)\n",
    "svm_predictions = svm_model.predict(X_test_tfidf)\n",
    "\n",
    "# Convert the sparse matrix to a dense NumPy array\n",
    "X_test_dense = X_test_tfidf.toarray()\n",
    "\n",
    "# perm_importance = permutation_importance(svm_model, X_test_dense, y_test) # Use the dense array here\n",
    "# features = np.array(feature_names)\n",
    "# sorted_idx = perm_importance.importances_mean.argsort()\n",
    "# plt.barh(features[sorted_idx], perm_importance.importances_mean[sorted_idx])\n",
    "# plt.xlabel(\"Permutation Importance\")\n",
    "\n",
    "# Đánh giá mô hình SVM\n",
    "print(\"SVM Classification Report:\")\n",
    "print(classification_report(y_test, svm_predictions))\n",
    "print(\"SVM Accuracy:\", accuracy_score(y_test, svm_predictions))\n",
    "print(\"f1-score:\", f1_score(y_test, svm_predictions))"
   ]
  },
  {
   "cell_type": "code",
   "execution_count": 9,
   "metadata": {},
   "outputs": [
    {
     "data": {
      "image/png": "[encoded data removed]",
      "text/plain": [
       "<Figure size 800x600 with 2 Axes>"
      ]
     },
     "metadata": {},
     "output_type": "display_data"
    }
   ],
   "source": [
    "import matplotlib.pyplot as plt\n",
    "import seaborn as sns\n",
    "from sklearn.metrics import confusion_matrix\n",
    "\n",
    "# Giả sử bạn đã có y_test và y_pred\n",
    "# y_test: nhãn thực tế\n",
    "# y_pred: nhãn dự đoán từ mô hình\n",
    "\n",
    "# Tính toán confusion matrix\n",
    "cm = confusion_matrix(y_test, svm_predictions)\n",
    "\n",
    "# Vẽ confusion matrix\n",
    "plt.figure(figsize=(8, 6))\n",
    "sns.heatmap(cm, annot=True, fmt='d', cmap='Blues', \n",
    "            xticklabels=['Negative', 'Positive'], \n",
    "            yticklabels=['Negative', 'Positive'])\n",
    "plt.ylabel('Actual')\n",
    "plt.xlabel('Predicted')\n",
    "plt.title('Confusion Matrix')\n",
    "plt.show()"
   ]
  },
  {
   "cell_type": "code",
   "execution_count": 10,
   "metadata": {},
   "outputs": [
    {
     "data": {
      "text/plain": [
       "array([[872,  18],\n",
       "       [ 90,  20]], dtype=int64)"
      ]
     },
     "execution_count": 10,
     "metadata": {},
     "output_type": "execute_result"
    }
   ],
   "source": [
    "cm"
   ]
  },
  {
   "cell_type": "code",
   "execution_count": null,
   "metadata": {},
   "outputs": [],
   "source": [
    "# Lưu mô hình SVM\n",
    "with open('./svm_model.pkl', 'wb') as file:\n",
    "    pickle.dump(svm_model, file)\n",
    "\n",
    "# Lưu vectorizer\n",
    "with open('./vectorizer.pkl', 'wb') as file:\n",
    "    pickle.dump(vectorizer, file)"
   ]
  }
 ],
 "metadata": {
  "kernelspec": {
   "display_name": "Python 3",
   "language": "python",
   "name": "python3"
  },
  "language_info": {
   "codemirror_mode": {
    "name": "ipython",
    "version": 3
   },
   "file_extension": ".py",
   "mimetype": "text/x-python",
   "name": "python",
   "nbconvert_exporter": "python",
   "pygments_lexer": "ipython3",
   "version": "3.10.11"
  }
 },
 "nbformat": 4,
 "nbformat_minor": 2
}
